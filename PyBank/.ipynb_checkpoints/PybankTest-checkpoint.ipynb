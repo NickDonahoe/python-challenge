{
 "cells": [
  {
   "cell_type": "code",
   "execution_count": 9,
   "metadata": {},
   "outputs": [
    {
     "name": "stdout",
     "output_type": "stream",
     "text": [
      "The total amount of months is: 86\n",
      "The total amount of months is: 38382578\n",
      "The average monthly change is: -2315.1176470588234\n",
      "The period with the greatesr increase in profit is: Feb-2012 1926159\n",
      "The period with the greatesr increase in profit is: Sep-2013 -2196167\n"
     ]
    }
   ],
   "source": [
    "import os\n",
    "import csv\n",
    "\n",
    "\n",
    "i = 0 \n",
    "j = 1\n",
    "total =[]\n",
    "ol = []\n",
    "cl = []\n",
    "\n",
    "#file path relative to the working directory\n",
    "budget_csv = os.path.join(\"budget_data.csv\")\n",
    "\n",
    "with open(budget_csv, newline = \"\") as csvfile:\n",
    "    csvreader = csv.reader(csvfile, delimiter = \",\")\n",
    "    # next allows to remove the next row (current row) and\n",
    "    csv_header = next(csvreader)\n",
    "    # Each row is a list\n",
    "    for row in csvreader:\n",
    "        #Store every month in a list\n",
    "        ol.append(row)\n",
    "       \n",
    "        \n",
    "# The total amount of months\n",
    "mnth_total = len(ol)\n",
    "\n",
    "# prints the net sum\n",
    "for z in range(len(ol)):\n",
    "    total.append(int(ol[z][1]))\n",
    "period_sum = sum(total)\n",
    "\n",
    "# loop to print monthly avaerages\n",
    "for i in range(len(ol)-1):\n",
    "    if j == range(len(ol)):\n",
    "        j = 86\n",
    "        cl.append(int(ol[j+1][1]) - int(ol[i+1][1]))\n",
    "        j += 1\n",
    "    else:\n",
    "        cl.append(int(ol[j][1]) - int(ol[i][1]))\n",
    "        j += 1\n",
    "\n",
    "\n",
    "# Computes average monthly change\n",
    "avg_mthly_chng = sum(cl)/len(cl)\n",
    "# Finds max increase in profit change\n",
    "max_incr_prof = max(cl)\n",
    "max_ind = cl.index(max(cl))\n",
    "max_mnth_incr = ol[max_ind + 1][0] + \" \" + str(max_incr_prof)\n",
    "# Finds min increase in profit change\n",
    "max_decr_prof = min(cl)\n",
    "min_ind = cl.index(min(cl))\n",
    "max_mnth_decr = ol[min_ind + 1][0] + \" \" + str(max_decr_prof)\n",
    "\n",
    "with open (\"test_file.txt\", \"w\") as test_file:\n",
    "    print(f\"The total amount of months is: {mnth_total}\")\n",
    "    print(f\"The total amount of months is: {period_sum}\")\n",
    "    print(f\"The average monthly change is: {avg_mthly_chng}\")\n",
    "    print(f\"The period with the greatesr increase in profit is: {max_mnth_incr}\")\n",
    "    print(f\"The period with the greatesr increase in profit is: {max_mnth_decr}\")"
   ]
  },
  {
   "cell_type": "code",
   "execution_count": null,
   "metadata": {},
   "outputs": [],
   "source": []
  },
  {
   "cell_type": "code",
   "execution_count": null,
   "metadata": {},
   "outputs": [],
   "source": []
  }
 ],
 "metadata": {
  "kernelspec": {
   "display_name": "Python 3",
   "language": "python",
   "name": "python3"
  },
  "language_info": {
   "codemirror_mode": {
    "name": "ipython",
    "version": 3
   },
   "file_extension": ".py",
   "mimetype": "text/x-python",
   "name": "python",
   "nbconvert_exporter": "python",
   "pygments_lexer": "ipython3",
   "version": "3.6.4"
  }
 },
 "nbformat": 4,
 "nbformat_minor": 2
}
