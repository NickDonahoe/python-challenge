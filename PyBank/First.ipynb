{
 "cells": [
  {
   "cell_type": "code",
   "execution_count": 90,
   "metadata": {},
   "outputs": [
    {
     "name": "stdout",
     "output_type": "stream",
     "text": [
      "['Date', 'Profit/Losses']\n",
      "[116771, -662642, -391430, 379920, 212354, 510239, -428211, -821271, 693918, 416278, -974163, 860159, -1115009, 1033048, 95318, -308093, 99052, -521393, 605450, 231727, -65187, -702716, 177975, -1065544, 1926159, -917805, 898730, -334262, -246499, -64055, -1529236, 1497596, 304914, -635801, 398319, -183161, -37864, -253689, 403655, 94168, 306877, -83000, 210462, -2196167, 1465222, -956983, 1838447, -468003, -64602, 206242, -242155, -449079, 315198, 241099, 111540, 365942, -219310, -368665, 409837, 151210, -110244, -341938, -1212159, 683246, -70825, 335594, 417334, -272194, -236462, 657432, -211262, -128237, -1750387, 925441, 932089, -311434, 267252, -1876758, 1733696, 198551, -665765, 693229, -734926, 77242, 532869]\n",
      "-2315.1176470588234\n",
      "1926159\n",
      "-2196167\n"
     ]
    }
   ],
   "source": [
    "import os\n",
    "import csv\n",
    "\n",
    "\n",
    "count = 0\n",
    "temp = 0\n",
    "i = 0 \n",
    "j = 1\n",
    "bl =[]\n",
    "ol = []\n",
    "cl = []\n",
    "\n",
    "#file path relative to the working directory\n",
    "budget_csv = os.path.join(\"budget_data.csv\")\n",
    "\n",
    "with open(budget_csv, newline = \"\") as csvfile:\n",
    "    csvreader = csv.reader(csvfile, delimiter = \",\")\n",
    "    # next allows to remove the next row (current row) and\n",
    "    csv_header = next(csvreader)\n",
    "    print(csv_header)\n",
    "    # Each row is a list\n",
    "    for row in csvreader:\n",
    "        #Store every month in a list\n",
    "        bl.append(row[0][0:3])\n",
    "        ol.append(int(row[1]))\n",
    "            \n",
    "        \n",
    "        \n",
    "        #bl.append(row[0])\n",
    "        \n",
    "        #for each in row:\n",
    "            #print(each)\n",
    "# converts into a set to find only unique items in the list\n",
    "#myset = set(bl)\n",
    "#print(len(myset))\n",
    "\n",
    "# prints the net sum\n",
    "#print(sum(ol))\n",
    "\n",
    "# loop to print monthly avaerages\n",
    "for i in range(len(ol)-1):\n",
    "\n",
    "    if j == range(1,len(ol)):\n",
    "        j = 86\n",
    "        cl.append(ol[j+1] - ol[i+1] )\n",
    "        j += 1\n",
    "    else:\n",
    "        cl.append(ol[j] - ol[i])\n",
    "        j += 1\n",
    "\n",
    "# change list\n",
    "print(cl)\n",
    "# Computes average monthly change\n",
    "print(sum(cl)/len(cl))\n",
    "# Finds max increase in profit change\n",
    "print(max(cl))\n",
    "# Finds min increase in profit change\n",
    "print(min(cl))\n",
    "    "
   ]
  },
  {
   "cell_type": "code",
   "execution_count": null,
   "metadata": {},
   "outputs": [],
   "source": []
  }
 ],
 "metadata": {
  "kernelspec": {
   "display_name": "Python 3",
   "language": "python",
   "name": "python3"
  },
  "language_info": {
   "codemirror_mode": {
    "name": "ipython",
    "version": 3
   },
   "file_extension": ".py",
   "mimetype": "text/x-python",
   "name": "python",
   "nbconvert_exporter": "python",
   "pygments_lexer": "ipython3",
   "version": "3.6.4"
  }
 },
 "nbformat": 4,
 "nbformat_minor": 2
}
