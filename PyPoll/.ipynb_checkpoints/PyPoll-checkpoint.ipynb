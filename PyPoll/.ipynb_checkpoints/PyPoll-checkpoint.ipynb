{
 "cells": [
  {
   "cell_type": "code",
   "execution_count": 1,
   "metadata": {},
   "outputs": [
    {
     "name": "stdout",
     "output_type": "stream",
     "text": [
      "3521001\n"
     ]
    },
    {
     "data": {
      "text/plain": [
       "'\\n# prints the net sum\\nfor z in range(len(ol)):\\n    if ol[z][2] == \"Khan\":        \\n        khn.append(ol[z][2])\\n    elif ol[z][2] == \"Correy\": \\n        cory.append(ol[z][2])\\n    elif ol[z][2] == \"Li\":\\n        li.append(ol[z][2])\\n    elif ol[z][2] == \"O\\'Tooley\":\\n        otly.append(ol[z][2])\\n\\n# Khan\\'s voter statistics\\nkhn_tot = len(khn)\\nkhn_per = khn_tot/voter_total\\n# Correy\\'s voter statistics\\ncory_tot = len(cory)\\ncory_per = cory_tot/voter_total\\n# Li\\'s voter statistics\\nli_tot = len(li)\\nli_per = li_tot/voter_total\\n# O\\'Tooley\\'s voter statistics\\notly_tot = len(otly)\\notly_per = otly_tot/voter_total\\n\\n\\n\\n\\nwith open (\"test_file2.txt\", \"w\") as test_file:\\n    print(f\"Total Votes: {voter_total}\")\\n    print(f\"Khan: {khn_per}% ({khn_tot})\")\\n    print(f\"Correy: {cory_per}% ({cory_tot})\")\\n    print(f\"Li: {Li_per}% ({Li_tot})\")\\n    print(f\"O\\'Tooley: {otly_per}% ({otly_tot})\")\\n    print(f\"Winner: Khan\")\\n'"
      ]
     },
     "execution_count": 1,
     "metadata": {},
     "output_type": "execute_result"
    }
   ],
   "source": [
    "import os\n",
    "import csv\n",
    "\n",
    "file_list = []\n",
    "khn = []\n",
    "cory = []\n",
    "li = []\n",
    "otly = []\n",
    "\n",
    "#file path relative to the working directory\n",
    "election_data_csv = os.path.join(\"election_data.csv\")\n",
    "\n",
    "with open(election_data_csv, newline = \"\") as csvfile:\n",
    "    csvreader = csv.reader(csvfile, delimiter = \",\")\n",
    "    # next allows to remove the next row (current row) and\n",
    "    csv_header = next(csvreader)\n",
    "    # Each row is a list\n",
    "    for record in csvreader:\n",
    "        #Store every month in a list\n",
    "        file_list.append(record)\n",
    "       \n",
    "        \n",
    "# The total amount of voters\n",
    "#voter_total = len(ol)\n",
    "#print(voter_total)\n",
    "print(len(file_list))\n",
    "\n",
    "'''\n",
    "# prints the net sum\n",
    "for z in range(len(ol)):\n",
    "    if ol[z][2] == \"Khan\":        \n",
    "        khn.append(ol[z][2])\n",
    "    elif ol[z][2] == \"Correy\": \n",
    "        cory.append(ol[z][2])\n",
    "    elif ol[z][2] == \"Li\":\n",
    "        li.append(ol[z][2])\n",
    "    elif ol[z][2] == \"O'Tooley\":\n",
    "        otly.append(ol[z][2])\n",
    "\n",
    "# Khan's voter statistics\n",
    "khn_tot = len(khn)\n",
    "khn_per = khn_tot/voter_total\n",
    "# Correy's voter statistics\n",
    "cory_tot = len(cory)\n",
    "cory_per = cory_tot/voter_total\n",
    "# Li's voter statistics\n",
    "li_tot = len(li)\n",
    "li_per = li_tot/voter_total\n",
    "# O'Tooley's voter statistics\n",
    "otly_tot = len(otly)\n",
    "otly_per = otly_tot/voter_total\n",
    "\n",
    "\n",
    "\n",
    "\n",
    "with open (\"test_file2.txt\", \"w\") as test_file:\n",
    "    print(f\"Total Votes: {voter_total}\")\n",
    "    print(f\"Khan: {khn_per}% ({khn_tot})\")\n",
    "    print(f\"Correy: {cory_per}% ({cory_tot})\")\n",
    "    print(f\"Li: {Li_per}% ({Li_tot})\")\n",
    "    print(f\"O'Tooley: {otly_per}% ({otly_tot})\")\n",
    "    print(f\"Winner: Khan\")\n",
    "'''"
   ]
  }
 ],
 "metadata": {
  "kernelspec": {
   "display_name": "Python 3",
   "language": "python",
   "name": "python3"
  },
  "language_info": {
   "codemirror_mode": {
    "name": "ipython",
    "version": 3
   },
   "file_extension": ".py",
   "mimetype": "text/x-python",
   "name": "python",
   "nbconvert_exporter": "python",
   "pygments_lexer": "ipython3",
   "version": "3.6.4"
  }
 },
 "nbformat": 4,
 "nbformat_minor": 2
}
